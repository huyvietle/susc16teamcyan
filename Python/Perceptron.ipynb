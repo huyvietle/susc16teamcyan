{
 "cells": [
  {
   "cell_type": "code",
   "execution_count": 1,
   "metadata": {
    "collapsed": true
   },
   "outputs": [],
   "source": [
    "import numpy as np\n",
    "import sklearn.datasets, sklearn.linear_model, sklearn.neighbors\n",
    "import matplotlib.pyplot as plt\n",
    "#import seaborn as sns\n",
    "import sys, os, time\n",
    "import scipy.io.wavfile, scipy.signal\n",
    "%matplotlib inline\n",
    "import matplotlib as mpl\n",
    "from IPython.core.display import HTML\n",
    "mpl.rcParams['figure.figsize'] = (18.0, 10.0)\n",
    "import pandas as pd"
   ]
  },
  {
   "cell_type": "code",
   "execution_count": 31,
   "metadata": {
    "collapsed": false
   },
   "outputs": [],
   "source": [
    "# class gesture\n",
    "pos = np.array([ 0,0,10     # hand1\n",
    "                ,0,0,0      # el \n",
    "                ,0,10,0     # z1\n",
    "                ,30,0,10    # x2 \n",
    "                ,30,0,0     # y2\n",
    "                ,30,10,0])  # z2\n",
    "\n",
    "class_1 = []\n",
    "for i in range(100):\n",
    "    class_1.append(pos)\n",
    "class_1 = np.array(class_1)\n",
    "np.savez(\"./data/test_data_1\", class_1)\n",
    "\n",
    "# noise class\n",
    "pos = np.array([ 0,0,0      # x1\n",
    "                ,0,0,0      # y1 \n",
    "                ,0,10,0     # z1\n",
    "                ,30,0,0     # x2 \n",
    "                ,30,0,0     # y2\n",
    "                ,30,10,0])  # z2\n",
    "\n",
    "class_0 = []\n",
    "for i in range(100):\n",
    "    class_0.append(pos)\n",
    "class_0 = np.array(class_0)\n",
    "np.savez(\"./data/test_data_0\", class_0)"
   ]
  },
  {
   "cell_type": "code",
   "execution_count": 47,
   "metadata": {
    "collapsed": false
   },
   "outputs": [
    {
     "name": "stdout",
     "output_type": "stream",
     "text": [
      "18 200\n"
     ]
    },
    {
     "name": "stderr",
     "output_type": "stream",
     "text": [
      "/Users/jimw/anaconda/envs/python2/lib/python2.7/site-packages/sklearn/utils/validation.py:386: DeprecationWarning: Passing 1d arrays as data is deprecated in 0.17 and willraise ValueError in 0.19. Reshape your data either using X.reshape(-1, 1) if your data has a single feature or X.reshape(1, -1) if it contains a single sample.\n",
      "  DeprecationWarning)\n"
     ]
    },
    {
     "data": {
      "text/plain": [
       "array([ 1.])"
      ]
     },
     "execution_count": 47,
     "metadata": {},
     "output_type": "execute_result"
    }
   ],
   "source": [
    "tc_0 = np.load(\"./data/test_data_0.npz\")['arr_0']\n",
    "tc_1 = np.load(\"./data/test_data_1.npz\")['arr_0']\n",
    "train_data = np.concatenate((tc_0, tc_1))\n",
    "\n",
    "train_classes = np.concatenate((np.ones(tc_0.shape[0])*(-1), np.ones(tc_1.shape[0])))\n",
    "\n",
    "per = sklearn.linear_model.Perceptron(n_iter=5, eta0=1)\n",
    "print train_data.shape[1], train_classes.shape[0]\n",
    "per.fit(train_data, train_classes) #, [-1,1])"
   ]
  },
  {
   "cell_type": "code",
   "execution_count": null,
   "metadata": {
    "collapsed": true
   },
   "outputs": [],
   "source": []
  }
 ],
 "metadata": {
  "kernelspec": {
   "display_name": "Python 2",
   "language": "python",
   "name": "python2"
  },
  "language_info": {
   "codemirror_mode": {
    "name": "ipython",
    "version": 2
   },
   "file_extension": ".py",
   "mimetype": "text/x-python",
   "name": "python",
   "nbconvert_exporter": "python",
   "pygments_lexer": "ipython2",
   "version": "2.7.11"
  }
 },
 "nbformat": 4,
 "nbformat_minor": 0
}
